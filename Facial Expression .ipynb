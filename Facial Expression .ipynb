{
 "cells": [
  {
   "cell_type": "markdown",
   "metadata": {},
   "source": [
    "<h1 align='center'>Emotion Prediction"
   ]
  },
  {
   "cell_type": "code",
   "execution_count": 1,
   "metadata": {},
   "outputs": [
    {
     "name": "stderr",
     "output_type": "stream",
     "text": [
      "Using TensorFlow backend.\n"
     ]
    }
   ],
   "source": [
    "# Importing Libraries:\n",
    "import keras\n",
    "from keras.preprocessing.image import ImageDataGenerator\n",
    "from keras.models import Sequential\n",
    "from keras.layers import Dense,Dropout,Activation,Flatten,BatchNormalization,Conv2D,MaxPooling2D\n",
    "from keras.layers import LeakyReLU\n",
    "import os"
   ]
  },
  {
   "cell_type": "code",
   "execution_count": 2,
   "metadata": {},
   "outputs": [],
   "source": [
    "# Categories = Angry,Disgust,Fear,Happy,Neutral,Sad,Surprise\n",
    "categories = 7\n",
    "#Image size\n",
    "img_rows,img_cols = 48,48\n",
    "batch_size = 32"
   ]
  },
  {
   "cell_type": "code",
   "execution_count": 3,
   "metadata": {},
   "outputs": [],
   "source": [
    "train_data_dir = r'D:\\Facial-CNN\\Images\\train'\n",
    "validation_data_dir = r'D:\\Facial-CNN\\Images\\validation'"
   ]
  },
  {
   "cell_type": "code",
   "execution_count": 4,
   "metadata": {},
   "outputs": [],
   "source": [
    "#Image Augmentation.\n",
    "train_datagen = ImageDataGenerator(rescale=1./255,rotation_range=30,shear_range=0.3,zoom_range=0.3,width_shift_range=0.4,\n",
    "                                   height_shift_range=0.4,horizontal_flip=True,fill_mode='nearest')\n",
    "\n",
    "validation_datagen = ImageDataGenerator(rescale=1./255)"
   ]
  },
  {
   "cell_type": "code",
   "execution_count": 5,
   "metadata": {},
   "outputs": [
    {
     "name": "stdout",
     "output_type": "stream",
     "text": [
      "Found 28821 images belonging to 7 classes.\n",
      "Found 7066 images belonging to 7 classes.\n"
     ]
    }
   ],
   "source": [
    "train_generator = train_datagen.flow_from_directory(train_data_dir,color_mode='grayscale',target_size=(img_rows,img_cols),\n",
    "                                                    batch_size=batch_size,class_mode='categorical',shuffle=True)\n",
    "\n",
    "validation_generator = validation_datagen.flow_from_directory(validation_data_dir,color_mode='grayscale',\n",
    "                                                              target_size=(img_rows,img_cols),batch_size=batch_size,\n",
    "                                                              class_mode='categorical',shuffle=True)"
   ]
  },
  {
   "cell_type": "code",
   "execution_count": 6,
   "metadata": {},
   "outputs": [],
   "source": [
    "# Model Initialization.\n",
    "model = Sequential()"
   ]
  },
  {
   "cell_type": "code",
   "execution_count": 7,
   "metadata": {},
   "outputs": [],
   "source": [
    "#Input layer.\n",
    "#Conv-1\n",
    "model.add(Conv2D(32,(3,3),padding='same',kernel_initializer='glorot_uniform',input_shape=(img_rows,img_cols,1)))\n",
    "model.add(LeakyReLU(alpha=0.1))\n",
    "model.add(BatchNormalization())\n",
    "model.add(Conv2D(32,(3,3),padding='same',kernel_initializer='he_normal',input_shape=(img_rows,img_cols,1)))\n",
    "model.add(Activation('elu'))\n",
    "model.add(BatchNormalization())\n",
    "model.add(MaxPooling2D(pool_size=(2,2)))\n",
    "model.add(Dropout(0.2))"
   ]
  },
  {
   "cell_type": "code",
   "execution_count": 8,
   "metadata": {},
   "outputs": [],
   "source": [
    "#Conv-2\n",
    "model.add(Conv2D(64,(3,3),padding='same',kernel_initializer='glorot_uniform'))\n",
    "model.add(LeakyReLU(alpha=0.1))\n",
    "model.add(BatchNormalization())\n",
    "model.add(Conv2D(64,(3,3),padding='same',kernel_initializer='he_normal'))\n",
    "model.add(Activation('elu'))\n",
    "model.add(BatchNormalization())\n",
    "model.add(MaxPooling2D(pool_size=(2,2)))\n",
    "model.add(Dropout(0.2))"
   ]
  },
  {
   "cell_type": "code",
   "execution_count": 9,
   "metadata": {},
   "outputs": [],
   "source": [
    "#Conv-3\n",
    "model.add(Conv2D(128,(3,3),padding='same',kernel_initializer='glorot_uniform'))\n",
    "model.add(LeakyReLU(alpha=0.1))\n",
    "model.add(BatchNormalization())\n",
    "model.add(Conv2D(128,(3,3),padding='same',kernel_initializer='he_normal'))\n",
    "model.add(Activation('elu'))\n",
    "model.add(BatchNormalization())\n",
    "model.add(MaxPooling2D(pool_size=(2,2)))\n",
    "model.add(Dropout(0.2))"
   ]
  },
  {
   "cell_type": "code",
   "execution_count": 10,
   "metadata": {},
   "outputs": [],
   "source": [
    "#Conv-4\n",
    "model.add(Conv2D(256,(3,3),padding='same',kernel_initializer='glorot_uniform'))\n",
    "model.add(LeakyReLU(alpha=0.1))\n",
    "model.add(BatchNormalization())\n",
    "model.add(Conv2D(256,(3,3),padding='same',kernel_initializer='he_normal'))\n",
    "model.add(Activation('elu'))\n",
    "model.add(BatchNormalization())\n",
    "model.add(MaxPooling2D(pool_size=(2,2)))\n",
    "model.add(Dropout(0.2))"
   ]
  },
  {
   "cell_type": "markdown",
   "metadata": {},
   "source": [
    "##### Fully connected feed forward network."
   ]
  },
  {
   "cell_type": "code",
   "execution_count": 11,
   "metadata": {},
   "outputs": [],
   "source": [
    "#The input matrix is flattened and provided as input to fully connected feedforward network.\n",
    "#Layer 1\n",
    "model.add(Flatten())\n",
    "model.add(Dense(units=64,kernel_initializer='he_normal'))\n",
    "model.add(Activation('elu'))\n",
    "model.add(BatchNormalization())\n",
    "model.add(Dropout(0.5))"
   ]
  },
  {
   "cell_type": "code",
   "execution_count": 12,
   "metadata": {},
   "outputs": [],
   "source": [
    "#Layer 2\n",
    "model.add(Dense(units=64,kernel_initializer='he_normal'))\n",
    "model.add(Activation('elu'))\n",
    "model.add(BatchNormalization())\n",
    "model.add(Dropout(0.5))"
   ]
  },
  {
   "cell_type": "code",
   "execution_count": 13,
   "metadata": {},
   "outputs": [
    {
     "name": "stdout",
     "output_type": "stream",
     "text": [
      "Model: \"sequential_1\"\n",
      "_________________________________________________________________\n",
      "Layer (type)                 Output Shape              Param #   \n",
      "=================================================================\n",
      "conv2d_1 (Conv2D)            (None, 48, 48, 32)        320       \n",
      "_________________________________________________________________\n",
      "leaky_re_lu_1 (LeakyReLU)    (None, 48, 48, 32)        0         \n",
      "_________________________________________________________________\n",
      "batch_normalization_1 (Batch (None, 48, 48, 32)        128       \n",
      "_________________________________________________________________\n",
      "conv2d_2 (Conv2D)            (None, 48, 48, 32)        9248      \n",
      "_________________________________________________________________\n",
      "activation_1 (Activation)    (None, 48, 48, 32)        0         \n",
      "_________________________________________________________________\n",
      "batch_normalization_2 (Batch (None, 48, 48, 32)        128       \n",
      "_________________________________________________________________\n",
      "max_pooling2d_1 (MaxPooling2 (None, 24, 24, 32)        0         \n",
      "_________________________________________________________________\n",
      "dropout_1 (Dropout)          (None, 24, 24, 32)        0         \n",
      "_________________________________________________________________\n",
      "conv2d_3 (Conv2D)            (None, 24, 24, 64)        18496     \n",
      "_________________________________________________________________\n",
      "leaky_re_lu_2 (LeakyReLU)    (None, 24, 24, 64)        0         \n",
      "_________________________________________________________________\n",
      "batch_normalization_3 (Batch (None, 24, 24, 64)        256       \n",
      "_________________________________________________________________\n",
      "conv2d_4 (Conv2D)            (None, 24, 24, 64)        36928     \n",
      "_________________________________________________________________\n",
      "activation_2 (Activation)    (None, 24, 24, 64)        0         \n",
      "_________________________________________________________________\n",
      "batch_normalization_4 (Batch (None, 24, 24, 64)        256       \n",
      "_________________________________________________________________\n",
      "max_pooling2d_2 (MaxPooling2 (None, 12, 12, 64)        0         \n",
      "_________________________________________________________________\n",
      "dropout_2 (Dropout)          (None, 12, 12, 64)        0         \n",
      "_________________________________________________________________\n",
      "conv2d_5 (Conv2D)            (None, 12, 12, 128)       73856     \n",
      "_________________________________________________________________\n",
      "leaky_re_lu_3 (LeakyReLU)    (None, 12, 12, 128)       0         \n",
      "_________________________________________________________________\n",
      "batch_normalization_5 (Batch (None, 12, 12, 128)       512       \n",
      "_________________________________________________________________\n",
      "conv2d_6 (Conv2D)            (None, 12, 12, 128)       147584    \n",
      "_________________________________________________________________\n",
      "activation_3 (Activation)    (None, 12, 12, 128)       0         \n",
      "_________________________________________________________________\n",
      "batch_normalization_6 (Batch (None, 12, 12, 128)       512       \n",
      "_________________________________________________________________\n",
      "max_pooling2d_3 (MaxPooling2 (None, 6, 6, 128)         0         \n",
      "_________________________________________________________________\n",
      "dropout_3 (Dropout)          (None, 6, 6, 128)         0         \n",
      "_________________________________________________________________\n",
      "conv2d_7 (Conv2D)            (None, 6, 6, 256)         295168    \n",
      "_________________________________________________________________\n",
      "leaky_re_lu_4 (LeakyReLU)    (None, 6, 6, 256)         0         \n",
      "_________________________________________________________________\n",
      "batch_normalization_7 (Batch (None, 6, 6, 256)         1024      \n",
      "_________________________________________________________________\n",
      "conv2d_8 (Conv2D)            (None, 6, 6, 256)         590080    \n",
      "_________________________________________________________________\n",
      "activation_4 (Activation)    (None, 6, 6, 256)         0         \n",
      "_________________________________________________________________\n",
      "batch_normalization_8 (Batch (None, 6, 6, 256)         1024      \n",
      "_________________________________________________________________\n",
      "max_pooling2d_4 (MaxPooling2 (None, 3, 3, 256)         0         \n",
      "_________________________________________________________________\n",
      "dropout_4 (Dropout)          (None, 3, 3, 256)         0         \n",
      "_________________________________________________________________\n",
      "flatten_1 (Flatten)          (None, 2304)              0         \n",
      "_________________________________________________________________\n",
      "dense_1 (Dense)              (None, 64)                147520    \n",
      "_________________________________________________________________\n",
      "activation_5 (Activation)    (None, 64)                0         \n",
      "_________________________________________________________________\n",
      "batch_normalization_9 (Batch (None, 64)                256       \n",
      "_________________________________________________________________\n",
      "dropout_5 (Dropout)          (None, 64)                0         \n",
      "_________________________________________________________________\n",
      "dense_2 (Dense)              (None, 64)                4160      \n",
      "_________________________________________________________________\n",
      "activation_6 (Activation)    (None, 64)                0         \n",
      "_________________________________________________________________\n",
      "batch_normalization_10 (Batc (None, 64)                256       \n",
      "_________________________________________________________________\n",
      "dropout_6 (Dropout)          (None, 64)                0         \n",
      "_________________________________________________________________\n",
      "dense_3 (Dense)              (None, 7)                 455       \n",
      "_________________________________________________________________\n",
      "activation_7 (Activation)    (None, 7)                 0         \n",
      "=================================================================\n",
      "Total params: 1,328,167\n",
      "Trainable params: 1,325,991\n",
      "Non-trainable params: 2,176\n",
      "_________________________________________________________________\n",
      "None\n"
     ]
    }
   ],
   "source": [
    "#Layer 3 output-layer\n",
    "model.add(Dense(categories,kernel_initializer='he_normal'))\n",
    "model.add(Activation('softmax'))\n",
    "print(model.summary())"
   ]
  },
  {
   "cell_type": "markdown",
   "metadata": {},
   "source": [
    "#### Adding Check poinst for early stopping."
   ]
  },
  {
   "cell_type": "code",
   "execution_count": 14,
   "metadata": {},
   "outputs": [],
   "source": [
    "from keras.optimizers import RMSprop,SGD,Adam\n",
    "from keras.callbacks import ModelCheckpoint, EarlyStopping, ReduceLROnPlateau"
   ]
  },
  {
   "cell_type": "code",
   "execution_count": 15,
   "metadata": {},
   "outputs": [],
   "source": [
    "checkpoint = ModelCheckpoint('Emotion_Model.h5',monitor='val_loss',mode='min',save_best_only=True,verbose=1)\n",
    "#early stopping\n",
    "earlystop = EarlyStopping(monitor='val_loss',min_delta=0,patience=3,verbose=1,restore_best_weights=True)\n",
    "#reduced learning rate\n",
    "reduce_lr = ReduceLROnPlateau(monitor='val_loss',factor=0.2,patience=3,verbose=1,min_delta=0.0001)"
   ]
  },
  {
   "cell_type": "code",
   "execution_count": 16,
   "metadata": {},
   "outputs": [],
   "source": [
    "callbacks = [earlystop,checkpoint,reduce_lr]"
   ]
  },
  {
   "cell_type": "markdown",
   "metadata": {},
   "source": [
    "##### specifying model optimizer and evaluation metrices"
   ]
  },
  {
   "cell_type": "code",
   "execution_count": 17,
   "metadata": {},
   "outputs": [],
   "source": [
    "model.compile(loss='categorical_crossentropy',optimizer = Adam(lr=0.001),metrics=['accuracy'])"
   ]
  },
  {
   "cell_type": "code",
   "execution_count": 18,
   "metadata": {},
   "outputs": [],
   "source": [
    "nb_train_samples = 28821\n",
    "nb_validation_samples = 7066\n",
    "epochs=20"
   ]
  },
  {
   "cell_type": "markdown",
   "metadata": {},
   "source": [
    "#### model training"
   ]
  },
  {
   "cell_type": "code",
   "execution_count": 19,
   "metadata": {},
   "outputs": [
    {
     "name": "stdout",
     "output_type": "stream",
     "text": [
      "Epoch 1/20\n",
      "900/900 [==============================] - 417s 463ms/step - loss: 2.1656 - accuracy: 0.1948 - val_loss: 1.9162 - val_accuracy: 0.2605\n",
      "\n",
      "Epoch 00001: val_loss improved from inf to 1.91625, saving model to Emotion_Model.h5\n",
      "Epoch 2/20\n",
      "900/900 [==============================] - 416s 462ms/step - loss: 1.8256 - accuracy: 0.2375 - val_loss: 2.0827 - val_accuracy: 0.1914\n",
      "\n",
      "Epoch 00002: val_loss did not improve from 1.91625\n",
      "Epoch 3/20\n",
      "900/900 [==============================] - 405s 450ms/step - loss: 1.7950 - accuracy: 0.2518 - val_loss: 1.8553 - val_accuracy: 0.2821\n",
      "\n",
      "Epoch 00003: val_loss improved from 1.91625 to 1.85531, saving model to Emotion_Model.h5\n",
      "Epoch 4/20\n",
      "900/900 [==============================] - 408s 454ms/step - loss: 1.7661 - accuracy: 0.2689 - val_loss: 1.7316 - val_accuracy: 0.2973\n",
      "\n",
      "Epoch 00004: val_loss improved from 1.85531 to 1.73156, saving model to Emotion_Model.h5\n",
      "Epoch 5/20\n",
      "900/900 [==============================] - 405s 450ms/step - loss: 1.6986 - accuracy: 0.3052 - val_loss: 1.6019 - val_accuracy: 0.3553\n",
      "\n",
      "Epoch 00005: val_loss improved from 1.73156 to 1.60192, saving model to Emotion_Model.h5\n",
      "Epoch 6/20\n",
      "900/900 [==============================] - 405s 450ms/step - loss: 1.6303 - accuracy: 0.3488 - val_loss: 1.2728 - val_accuracy: 0.4564\n",
      "\n",
      "Epoch 00006: val_loss improved from 1.60192 to 1.27284, saving model to Emotion_Model.h5\n",
      "Epoch 7/20\n",
      "900/900 [==============================] - 407s 452ms/step - loss: 1.5700 - accuracy: 0.3782 - val_loss: 1.4924 - val_accuracy: 0.4635\n",
      "\n",
      "Epoch 00007: val_loss did not improve from 1.27284\n",
      "Epoch 8/20\n",
      "900/900 [==============================] - 404s 449ms/step - loss: 1.5232 - accuracy: 0.4082 - val_loss: 1.5287 - val_accuracy: 0.5097\n",
      "\n",
      "Epoch 00008: val_loss did not improve from 1.27284\n",
      "Epoch 9/20\n",
      "900/900 [==============================] - 406s 451ms/step - loss: 1.4847 - accuracy: 0.4277 - val_loss: 1.2197 - val_accuracy: 0.5254\n",
      "\n",
      "Epoch 00009: val_loss improved from 1.27284 to 1.21969, saving model to Emotion_Model.h5\n",
      "Epoch 10/20\n",
      "900/900 [==============================] - 429s 477ms/step - loss: 1.4546 - accuracy: 0.4367 - val_loss: 1.1599 - val_accuracy: 0.5370\n",
      "\n",
      "Epoch 00010: val_loss improved from 1.21969 to 1.15988, saving model to Emotion_Model.h5\n",
      "Epoch 11/20\n",
      "900/900 [==============================] - 426s 473ms/step - loss: 1.4352 - accuracy: 0.4459 - val_loss: 0.9953 - val_accuracy: 0.5272\n",
      "\n",
      "Epoch 00011: val_loss improved from 1.15988 to 0.99530, saving model to Emotion_Model.h5\n",
      "Epoch 12/20\n",
      "900/900 [==============================] - 423s 471ms/step - loss: 1.4102 - accuracy: 0.4635 - val_loss: 1.6466 - val_accuracy: 0.5024\n",
      "\n",
      "Epoch 00012: val_loss did not improve from 0.99530\n",
      "Epoch 13/20\n",
      "900/900 [==============================] - 414s 460ms/step - loss: 1.3918 - accuracy: 0.4735 - val_loss: 0.8971 - val_accuracy: 0.5421\n",
      "\n",
      "Epoch 00013: val_loss improved from 0.99530 to 0.89707, saving model to Emotion_Model.h5\n",
      "Epoch 14/20\n",
      "900/900 [==============================] - 440s 489ms/step - loss: 1.3822 - accuracy: 0.4732 - val_loss: 0.8605 - val_accuracy: 0.5599\n",
      "\n",
      "Epoch 00014: val_loss improved from 0.89707 to 0.86048, saving model to Emotion_Model.h5\n",
      "Epoch 15/20\n",
      "900/900 [==============================] - 428s 475ms/step - loss: 1.3642 - accuracy: 0.4850 - val_loss: 1.3848 - val_accuracy: 0.5702\n",
      "\n",
      "Epoch 00015: val_loss did not improve from 0.86048\n",
      "Epoch 16/20\n",
      "900/900 [==============================] - 428s 476ms/step - loss: 1.3525 - accuracy: 0.4901 - val_loss: 0.9188 - val_accuracy: 0.5808\n",
      "\n",
      "Epoch 00016: val_loss did not improve from 0.86048\n",
      "Epoch 17/20\n",
      "900/900 [==============================] - 422s 469ms/step - loss: 1.3473 - accuracy: 0.4931 - val_loss: 0.9178 - val_accuracy: 0.5749\n",
      "Restoring model weights from the end of the best epoch\n",
      "\n",
      "Epoch 00017: val_loss did not improve from 0.86048\n",
      "\n",
      "Epoch 00017: ReduceLROnPlateau reducing learning rate to 0.00020000000949949026.\n",
      "Epoch 00017: early stopping\n"
     ]
    }
   ],
   "source": [
    "history=model.fit_generator(train_generator,steps_per_epoch=nb_train_samples//batch_size,epochs=epochs,callbacks=callbacks,\n",
    "                validation_data=validation_generator,\n",
    "                validation_steps=nb_validation_samples//batch_size)"
   ]
  },
  {
   "cell_type": "markdown",
   "metadata": {},
   "source": [
    "### Emotion prediction with trained model with Opencv haar cascade."
   ]
  },
  {
   "cell_type": "code",
   "execution_count": 20,
   "metadata": {},
   "outputs": [],
   "source": [
    "from keras.models import load_model\n",
    "from time import sleep\n",
    "from keras.preprocessing.image import img_to_array\n",
    "from keras.preprocessing import image\n",
    "import cv2\n",
    "import numpy as np"
   ]
  },
  {
   "cell_type": "markdown",
   "metadata": {},
   "source": [
    "<b>OpenCV haarcascades:</b>\n",
    "trained classifiers for detecting objects of a particular type, e.g. faces (frontal, profile), pedestrians etc.\n",
    "https://github.com/opencv/opencv/tree/master/data/haarcascades"
   ]
  },
  {
   "cell_type": "code",
   "execution_count": 21,
   "metadata": {},
   "outputs": [],
   "source": [
    "# loading haarcascade.\n",
    "face_classifier = cv2.CascadeClassifier(r'D:\\Facial-CNN\\Scripts\\haarcascade_frontalface_default.xml')\n",
    "#loading trained model for prediction.\n",
    "classifier =load_model(r'D:\\Facial-CNN\\Scripts\\Emotion_Model.h5')\n",
    "#types of class labels.\n",
    "class_labels = ['Angry','Disgust','Fear','Happy','Neutral','Sad','Surprise']"
   ]
  },
  {
   "cell_type": "code",
   "execution_count": 22,
   "metadata": {},
   "outputs": [],
   "source": [
    "def PredictResult(isVideo=True,exp_frame=None):\n",
    "    if isVideo:\n",
    "        cap = cv2.VideoCapture(0)\n",
    "        while cap.isOpened():\n",
    "            # Grab a single frame of video\n",
    "            ret, frame = cap.read()\n",
    "            labels = []\n",
    "            Category_Box(frame)\n",
    "            cv2.imshow('Emotion Detector',frame)\n",
    "            if cv2.waitKey(1) & 0xFF == ord('q'):\n",
    "                break\n",
    "        print(\"Camera closed\")\n",
    "        cap.release()\n",
    "        cv2.destroyAllWindows()\n",
    "    else:\n",
    "        Category_Box(exp_frame)\n",
    "        cv2.namedWindow('Emotion Detector', cv2.WINDOW_NORMAL)        \n",
    "        cv2.imshow('Emotion Detector',exp_frame)\n",
    "        cv2.waitKey(0)\n",
    "        cv2.destroyWindow('Emotion Detector')"
   ]
  },
  {
   "cell_type": "code",
   "execution_count": 48,
   "metadata": {},
   "outputs": [],
   "source": [
    "def Category_Box(frame):\n",
    "        gray = cv2.cvtColor(frame,cv2.COLOR_BGR2GRAY)\n",
    "        faces = face_classifier.detectMultiScale(gray,1.3,5)\n",
    "        for (x,y,w,h) in faces:\n",
    "                    cv2.rectangle(frame,(x,y),(x+w,y+h),(0,0,0),2)\n",
    "                    roi_gray = gray[y:y+h,x:x+w]\n",
    "                    roi_gray = cv2.resize(roi_gray,(48,48),interpolation=cv2.INTER_AREA)\n",
    "                # rect,face,image = face_detector(frame)\n",
    "\n",
    "\n",
    "                    if np.sum([roi_gray])!=0:\n",
    "                        roi = roi_gray.astype('float')/255.0\n",
    "                        roi = img_to_array(roi)\n",
    "                        roi = np.expand_dims(roi,axis=0)\n",
    "\n",
    "                    # make a prediction on the ROI, then lookup the class\n",
    "\n",
    "                        preds = classifier.predict(roi)[0]\n",
    "                        label=class_labels[preds.argmax()]\n",
    "                        label_position = (x,y)\n",
    "                        cv2.putText(frame,label,label_position,cv2.FONT_HERSHEY_SIMPLEX,2,(255,255,0),3)\n",
    "                    else:\n",
    "                        cv2.putText(frame,'No Face Found',(20,60),cv2.FONT_HERSHEY_SIMPLEX,2,(0,255,0),3)    "
   ]
  },
  {
   "cell_type": "markdown",
   "metadata": {},
   "source": [
    "### Image Prediction:"
   ]
  },
  {
   "cell_type": "code",
   "execution_count": 28,
   "metadata": {},
   "outputs": [
    {
     "name": "stdout",
     "output_type": "stream",
     "text": [
      "Image shape: (849, 849, 3)\n",
      "Image height=849 and width=849\n"
     ]
    }
   ],
   "source": [
    "imageFrame = cv2.imread('D:\\Facial-CNN\\TestImages\\InputImages\\Test1.jpg')\n",
    "print('Image shape:', imageFrame.shape)  # tuple of (511, 767, 3)\n",
    "\n",
    "# Getting spatial dimension of input image\n",
    "h, w = imageFrame.shape[:2]  # Slicing from tuple only first two elements\n",
    "# Check point\n",
    "# Showing height an width of image\n",
    "print('Image height={0} and width={1}'.format(h, w))  # 511 767\n",
    "PredictResult(False,imageFrame)"
   ]
  },
  {
   "cell_type": "markdown",
   "metadata": {},
   "source": [
    "#### Save multiple predicted images in the destination folder."
   ]
  },
  {
   "cell_type": "code",
   "execution_count": 67,
   "metadata": {},
   "outputs": [],
   "source": [
    "imageArray = ['Test1.jpg','Test2.jpg','Test3.jpg','Test4.jpg','Test5.jpg','Test6.jpg','Test7.jpg','Test8.jpg','Test9.jpg']"
   ]
  },
  {
   "cell_type": "code",
   "execution_count": 78,
   "metadata": {},
   "outputs": [
    {
     "name": "stdout",
     "output_type": "stream",
     "text": [
      "Image shape: (849, 849, 3)\n",
      "Image height=849 and width=849\n",
      "Image shape: (530, 800, 3)\n",
      "Image height=530 and width=800\n",
      "Image shape: (1200, 1200, 3)\n",
      "Image height=1200 and width=1200\n",
      "Image shape: (375, 700, 3)\n",
      "Image height=375 and width=700\n",
      "Image shape: (400, 400, 3)\n",
      "Image height=400 and width=400\n",
      "Image shape: (892, 892, 3)\n",
      "Image height=892 and width=892\n",
      "Image shape: (1390, 1300, 3)\n",
      "Image height=1390 and width=1300\n",
      "Image shape: (417, 626, 3)\n",
      "Image height=417 and width=626\n",
      "Image shape: (563, 800, 3)\n",
      "Image height=563 and width=800\n"
     ]
    }
   ],
   "source": [
    "for image in imageArray:\n",
    "    imageFrame1 = cv2.imread(f'D:\\Facial-CNN\\TestImages\\InputImages\\{image}')\n",
    "    print('Image shape:', imageFrame1.shape)  # tuple of (511, 767, 3)\n",
    "\n",
    "    # Getting spatial dimension of input image\n",
    "    h, w = imageFrame1.shape[:2]  # Slicing from tuple only first two elements\n",
    "    # Check point\n",
    "    # Showing height an width of image\n",
    "    print('Image height={0} and width={1}'.format(h, w))  # 511 767\n",
    "    PredictResult(False,imageFrame1)\n",
    "    cv2.imwrite(f\"D:\\Facial-CNN\\TestImages\\OutputImages\\{image}\",imageFrame1)"
   ]
  },
  {
   "cell_type": "markdown",
   "metadata": {},
   "source": [
    "### Live Video Capture"
   ]
  },
  {
   "cell_type": "code",
   "execution_count": 27,
   "metadata": {},
   "outputs": [
    {
     "name": "stdout",
     "output_type": "stream",
     "text": [
      "Camera closed\n"
     ]
    }
   ],
   "source": [
    "PredictResult(True)"
   ]
  }
 ],
 "metadata": {
  "kernelspec": {
   "display_name": "Python 3",
   "language": "python",
   "name": "python3"
  },
  "language_info": {
   "codemirror_mode": {
    "name": "ipython",
    "version": 3
   },
   "file_extension": ".py",
   "mimetype": "text/x-python",
   "name": "python",
   "nbconvert_exporter": "python",
   "pygments_lexer": "ipython3",
   "version": "3.7.7"
  }
 },
 "nbformat": 4,
 "nbformat_minor": 4
}
